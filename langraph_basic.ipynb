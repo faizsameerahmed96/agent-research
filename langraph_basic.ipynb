{
 "cells": [
  {
   "cell_type": "code",
   "execution_count": 56,
   "metadata": {},
   "outputs": [],
   "source": [
    "# !pip install --quiet -U langgraph"
   ]
  },
  {
   "cell_type": "code",
   "execution_count": 57,
   "metadata": {},
   "outputs": [],
   "source": [
    "import os"
   ]
  },
  {
   "cell_type": "code",
   "execution_count": 58,
   "metadata": {},
   "outputs": [],
   "source": [
    "from langchain.agents import create_openai_functions_agent\n",
    "from langchain_openai.chat_models import ChatOpenAI\n",
    "from langchain_community.tools.tavily_search import TavilySearchResults\n",
    "from langchain_core.prompts import ChatPromptTemplate, MessagesPlaceholder\n",
    "from langchain_community.utilities import GoogleSearchAPIWrapper\n",
    "from langchain_core.tools import Tool\n",
    "\n",
    "from langchain import hub\n",
    "from langchain.agents import create_openai_functions_agent"
   ]
  },
  {
   "cell_type": "code",
   "execution_count": 59,
   "metadata": {},
   "outputs": [],
   "source": [
    "search = GoogleSearchAPIWrapper()\n",
    "\n",
    "search_tool = Tool(\n",
    "    name=\"google_search\",\n",
    "    description=\"Search Google for recent results. This will return relevant information from the web with links to the sources.\",\n",
    "    func=lambda query: f\"\"\"\n",
    "        Result for query: {query}\n",
    "        {os.linesep.join([f\"Title: {result['title']}  Peek into article {result['snippet']}  Link for more info: {result['link']}\" for result in search.results(query, num_results=5)])}\n",
    "    \"\"\",\n",
    ")\n",
    "\n",
    "tools=[search_tool]\n",
    "\n",
    "prompt = ChatPromptTemplate.from_messages([\n",
    "    (\n",
    "        \"system\",\n",
    "        \"\"\"\n",
    "        You are a research agent. You will be given a topic and you need to do research on it. You have access to tools that you can use to help you get information while preparing the research report.\n",
    "        You need to create a detailed research report that covers the topic in detail. First gather all the information you can find on the topic on the web.\n",
    "        \"\"\"\n",
    "    ),\n",
    "    MessagesPlaceholder(variable_name=\"chat_history\"),\n",
    "    (\"human\", \"Research {research_topic}\"),\n",
    "    MessagesPlaceholder(variable_name=\"agent_scratchpad\"),\n",
    "])\n",
    "\n",
    "llm = ChatOpenAI(\n",
    "    model=\"gpt-4o\",\n",
    "    max_retries=2,\n",
    "    temperature=0.25,\n",
    ")\n",
    "\n",
    "agent_runnable = create_openai_functions_agent(llm, tools, prompt)"
   ]
  },
  {
   "cell_type": "code",
   "execution_count": 60,
   "metadata": {},
   "outputs": [],
   "source": [
    "import operator\n",
    "from typing import Annotated, TypedDict, Union\n",
    "\n",
    "from langchain_core.agents import AgentAction, AgentFinish\n",
    "from langchain_core.messages import BaseMessage\n",
    "\n",
    "\n",
    "class AgentState(TypedDict):\n",
    "    # The input string\n",
    "    research_topic: str\n",
    "    # The list of previous messages in the conversation\n",
    "    chat_history: list[BaseMessage]\n",
    "    # The outcome of a given call to the agent\n",
    "    # Needs `None` as a valid type, since this is what this will start as\n",
    "    agent_outcome: Union[AgentAction, AgentFinish, None]\n",
    "    # List of actions and corresponding observations\n",
    "    # Here we annotate this with `operator.add` to indicate that operations to\n",
    "    # this state should be ADDED to the existing values (not overwrite it)\n",
    "    intermediate_steps: Annotated[list[tuple[AgentAction, str]], operator.add]"
   ]
  },
  {
   "cell_type": "code",
   "execution_count": 61,
   "metadata": {},
   "outputs": [],
   "source": [
    "from langchain_core.agents import AgentFinish\n",
    "\n",
    "from langgraph.prebuilt.tool_executor import ToolExecutor\n",
    "\n",
    "# This a helper class we have that is useful for running tools\n",
    "# It takes in an agent action and calls that tool and returns the result\n",
    "tool_executor = ToolExecutor(tools)\n",
    "\n",
    "\n",
    "# Define the agent\n",
    "def run_agent(data):\n",
    "    print(\"faiz here\", data)\n",
    "    agent_outcome = agent_runnable.invoke(data)\n",
    "    return {\"agent_outcome\": agent_outcome}\n",
    "\n",
    "\n",
    "# Define the function to execute tools\n",
    "def execute_tools(data):\n",
    "    # Get the most recent agent_outcome - this is the key added in the `agent` above\n",
    "    agent_action = data[\"agent_outcome\"]\n",
    "    output = tool_executor.invoke(agent_action)\n",
    "    return {\"intermediate_steps\": [(agent_action, str(output))]}\n",
    "\n",
    "\n",
    "# Define logic that will be used to determine which conditional edge to go down\n",
    "def should_continue(data):\n",
    "    # If the agent outcome is an AgentFinish, then we return `exit` string\n",
    "    # This will be used when setting up the graph to define the flow\n",
    "    if isinstance(data[\"agent_outcome\"], AgentFinish):\n",
    "        return \"end\"\n",
    "    # Otherwise, an AgentAction is returned\n",
    "    # Here we return `continue` string\n",
    "    # This will be used when setting up the graph to define the flow\n",
    "    else:\n",
    "        return \"continue\""
   ]
  },
  {
   "cell_type": "code",
   "execution_count": 62,
   "metadata": {},
   "outputs": [],
   "source": [
    "from langgraph.graph import END, StateGraph, START\n",
    "\n",
    "# Define a new graph\n",
    "workflow = StateGraph(AgentState)\n",
    "\n",
    "# Define the two nodes we will cycle between\n",
    "workflow.add_node(\"agent\", run_agent)\n",
    "workflow.add_node(\"action\", execute_tools)\n",
    "\n",
    "# Set the entrypoint as `agent`\n",
    "# This means that this node is the first one called\n",
    "workflow.add_edge(START, \"agent\")\n",
    "\n",
    "# We now add a conditional edge\n",
    "workflow.add_conditional_edges(\n",
    "    # First, we define the start node. We use `agent`.\n",
    "    # This means these are the edges taken after the `agent` node is called.\n",
    "    \"agent\",\n",
    "    # Next, we pass in the function that will determine which node is called next.\n",
    "    should_continue,\n",
    "    # Finally we pass in a mapping.\n",
    "    # The keys are strings, and the values are other nodes.\n",
    "    # END is a special node marking that the graph should finish.\n",
    "    # What will happen is we will call `should_continue`, and then the output of that\n",
    "    # will be matched against the keys in this mapping.\n",
    "    # Based on which one it matches, that node will then be called.\n",
    "    {\n",
    "        # If `tools`, then we call the tool node.\n",
    "        \"continue\": \"action\",\n",
    "        # Otherwise we finish.\n",
    "        \"end\": END,\n",
    "    },\n",
    ")\n",
    "\n",
    "# We now add a normal edge from `tools` to `agent`.\n",
    "# This means that after `tools` is called, `agent` node is called next.\n",
    "workflow.add_edge(\"action\", \"agent\")\n",
    "\n",
    "# Finally, we compile it!\n",
    "# This compiles it into a LangChain Runnable,\n",
    "# meaning you can use it as you would any other runnable\n",
    "app = workflow.compile()"
   ]
  },
  {
   "cell_type": "code",
   "execution_count": 63,
   "metadata": {},
   "outputs": [
    {
     "name": "stdout",
     "output_type": "stream",
     "text": [
      "faiz here {'research_topic': 'India 2024 lok sabha elections', 'chat_history': [], 'agent_outcome': None, 'intermediate_steps': []}\n",
      "faiz here {'research_topic': 'India 2024 lok sabha elections', 'chat_history': [], 'agent_outcome': AgentActionMessageLog(tool='google_search', tool_input='India 2024 Lok Sabha elections', log='\\nInvoking: `google_search` with `India 2024 Lok Sabha elections`\\n\\n\\n', message_log=[AIMessage(content='', additional_kwargs={'function_call': {'arguments': '{\"__arg1\":\"India 2024 Lok Sabha elections\"}', 'name': 'google_search'}}, response_metadata={'token_usage': {'completion_tokens': 22, 'prompt_tokens': 148, 'total_tokens': 170}, 'model_name': 'gpt-4o-2024-05-13', 'system_fingerprint': 'fp_dd932ca5d1', 'finish_reason': 'function_call', 'logprobs': None}, id='run-32d7f75b-57e3-424c-af67-90671bcd28f3-0', usage_metadata={'input_tokens': 148, 'output_tokens': 22, 'total_tokens': 170})]), 'intermediate_steps': [(AgentActionMessageLog(tool='google_search', tool_input='India 2024 Lok Sabha elections', log='\\nInvoking: `google_search` with `India 2024 Lok Sabha elections`\\n\\n\\n', message_log=[AIMessage(content='', additional_kwargs={'function_call': {'arguments': '{\"__arg1\":\"India 2024 Lok Sabha elections\"}', 'name': 'google_search'}}, response_metadata={'token_usage': {'completion_tokens': 22, 'prompt_tokens': 148, 'total_tokens': 170}, 'model_name': 'gpt-4o-2024-05-13', 'system_fingerprint': 'fp_dd932ca5d1', 'finish_reason': 'function_call', 'logprobs': None}, id='run-32d7f75b-57e3-424c-af67-90671bcd28f3-0', usage_metadata={'input_tokens': 148, 'output_tokens': 22, 'total_tokens': 170})]), \"\\n        Result for query: India 2024 Lok Sabha elections\\n        Title: 2024 Indian general election - Wikipedia  Peek into article General elections were held in India from 19 April to 1 June 2024 in seven phases, to elect all 543 members of the Lok Sabha. Votes were counted and the\\xa0...  Link for more info: https://en.wikipedia.org/wiki/2024_Indian_general_election\\nTitle: Lokshabha Elections 2024 - Election Updates!!  Peek into article Lok Sabha Elections 2024 - Election Updates ... Election Commission of India submits list of newly elected members to the 18th Lok Sabha to the Hon'ble President\\xa0...  Link for more info: https://elections24.eci.gov.in/\\nTitle: Election Commission of India  Peek into article ... (INDIA) ANDAMAN & NICOBAR ISLANDS (INDIA). Current Elections. General Elections to Lok Sabha 2024 · Andhra Pradesh · Arunachal Pradesh · Odisha · Sikkim · Bye\\xa0...  Link for more info: https://eci.gov.in/\\nTitle: Election Commission of India  Peek into article The final data for each AC/PC will be shared in Form-20. General Election to Parliamentary/Assembly Constituencies: Trends & Results June-2024. Parliamentary\\xa0...  Link for more info: https://results.eci.gov.in/\\nTitle: India election results 2024: Modi claims victory but falls short of full ...  Peek into article Jun 4, 2024 ... NEW DELHI (AP) — Prime Minister Narendra Modi declared victory for his alliance in India's general election, claiming a mandate to move\\xa0...  Link for more info: https://apnews.com/article/india-election-results-2024-lok-sabha-modi-bjp-7893efecc83fa8225a611f174e6420ee\\n    \")]}\n"
     ]
    },
    {
     "data": {
      "text/plain": [
       "{'research_topic': 'India 2024 lok sabha elections',\n",
       " 'chat_history': [],\n",
       " 'agent_outcome': AgentFinish(return_values={'output': \"### Research Report: India 2024 Lok Sabha Elections\\n\\n#### Overview\\nThe 2024 Indian general election, also known as the Lok Sabha elections, were held to elect members to the 18th Lok Sabha, the lower house of India's Parliament. The elections were conducted in seven phases from April 19 to June 1, 2024. The counting of votes took place shortly after the final phase, and the results were declared in early June 2024.\\n\\n#### Key Highlights\\n1. **Election Phases**: The election was conducted in seven phases to manage the vast electorate and ensure security and logistical efficiency.\\n2. **Total Seats**: The election was held for all 543 Lok Sabha seats.\\n3. **Major Parties**:\\n   - **Bharatiya Janata Party (BJP)**: Led by Prime Minister Narendra Modi.\\n   - **Indian National Congress (INC)**: Led by Rahul Gandhi.\\n   - **Other Regional Parties**: Including the Aam Aadmi Party (AAP), Trinamool Congress (TMC), and others.\\n\\n#### Election Results\\n- **BJP Alliance**: Prime Minister Narendra Modi's alliance claimed victory but did not secure an outright majority. This necessitated coalition-building with smaller parties to form the government.\\n- **Congress Performance**: The Indian National Congress improved its seat count compared to the previous election but still fell short of forming the government.\\n- **Regional Parties**: Regional parties played a crucial role in the election, with significant performances in states like West Bengal, Tamil Nadu, and Uttar Pradesh.\\n\\n#### Voter Turnout\\nThe voter turnout was reported to be high, reflecting the active participation of the Indian electorate in the democratic process.\\n\\n#### Key Issues\\nSeveral key issues dominated the 2024 Lok Sabha elections:\\n1. **Economic Policies**: Debates on economic growth, job creation, and inflation.\\n2. **Social Policies**: Discussions on social justice, healthcare, and education.\\n3. **National Security**: Concerns over national security and defense policies.\\n4. **Environmental Issues**: Climate change and environmental conservation were also significant topics.\\n\\n#### Election Commission of India\\nThe Election Commission of India (ECI) played a pivotal role in ensuring free and fair elections. The ECI's official website provided real-time updates on election phases, voter information, and results.\\n\\n#### Sources\\n1. [Wikipedia: 2024 Indian General Election](https://en.wikipedia.org/wiki/2024_Indian_general_election)\\n2. [Election Commission of India](https://eci.gov.in/)\\n3. [AP News: India Election Results 2024](https://apnews.com/article/india-election-results-2024-lok-sabha-modi-bjp-7893efecc83fa8225a611f174e6420ee)\\n\\n#### Conclusion\\nThe 2024 Lok Sabha elections were a significant event in India's democratic process, reflecting the dynamic political landscape of the country. The results underscored the importance of coalition politics and the role of regional parties in shaping the national government. The high voter turnout and the active engagement of various political parties highlighted the vibrancy of India's democracy.\"}, log=\"### Research Report: India 2024 Lok Sabha Elections\\n\\n#### Overview\\nThe 2024 Indian general election, also known as the Lok Sabha elections, were held to elect members to the 18th Lok Sabha, the lower house of India's Parliament. The elections were conducted in seven phases from April 19 to June 1, 2024. The counting of votes took place shortly after the final phase, and the results were declared in early June 2024.\\n\\n#### Key Highlights\\n1. **Election Phases**: The election was conducted in seven phases to manage the vast electorate and ensure security and logistical efficiency.\\n2. **Total Seats**: The election was held for all 543 Lok Sabha seats.\\n3. **Major Parties**:\\n   - **Bharatiya Janata Party (BJP)**: Led by Prime Minister Narendra Modi.\\n   - **Indian National Congress (INC)**: Led by Rahul Gandhi.\\n   - **Other Regional Parties**: Including the Aam Aadmi Party (AAP), Trinamool Congress (TMC), and others.\\n\\n#### Election Results\\n- **BJP Alliance**: Prime Minister Narendra Modi's alliance claimed victory but did not secure an outright majority. This necessitated coalition-building with smaller parties to form the government.\\n- **Congress Performance**: The Indian National Congress improved its seat count compared to the previous election but still fell short of forming the government.\\n- **Regional Parties**: Regional parties played a crucial role in the election, with significant performances in states like West Bengal, Tamil Nadu, and Uttar Pradesh.\\n\\n#### Voter Turnout\\nThe voter turnout was reported to be high, reflecting the active participation of the Indian electorate in the democratic process.\\n\\n#### Key Issues\\nSeveral key issues dominated the 2024 Lok Sabha elections:\\n1. **Economic Policies**: Debates on economic growth, job creation, and inflation.\\n2. **Social Policies**: Discussions on social justice, healthcare, and education.\\n3. **National Security**: Concerns over national security and defense policies.\\n4. **Environmental Issues**: Climate change and environmental conservation were also significant topics.\\n\\n#### Election Commission of India\\nThe Election Commission of India (ECI) played a pivotal role in ensuring free and fair elections. The ECI's official website provided real-time updates on election phases, voter information, and results.\\n\\n#### Sources\\n1. [Wikipedia: 2024 Indian General Election](https://en.wikipedia.org/wiki/2024_Indian_general_election)\\n2. [Election Commission of India](https://eci.gov.in/)\\n3. [AP News: India Election Results 2024](https://apnews.com/article/india-election-results-2024-lok-sabha-modi-bjp-7893efecc83fa8225a611f174e6420ee)\\n\\n#### Conclusion\\nThe 2024 Lok Sabha elections were a significant event in India's democratic process, reflecting the dynamic political landscape of the country. The results underscored the importance of coalition politics and the role of regional parties in shaping the national government. The high voter turnout and the active engagement of various political parties highlighted the vibrancy of India's democracy.\"),\n",
       " 'intermediate_steps': [(AgentActionMessageLog(tool='google_search', tool_input='India 2024 Lok Sabha elections', log='\\nInvoking: `google_search` with `India 2024 Lok Sabha elections`\\n\\n\\n', message_log=[AIMessage(content='', additional_kwargs={'function_call': {'arguments': '{\"__arg1\":\"India 2024 Lok Sabha elections\"}', 'name': 'google_search'}}, response_metadata={'token_usage': {'completion_tokens': 22, 'prompt_tokens': 148, 'total_tokens': 170}, 'model_name': 'gpt-4o-2024-05-13', 'system_fingerprint': 'fp_dd932ca5d1', 'finish_reason': 'function_call', 'logprobs': None}, id='run-32d7f75b-57e3-424c-af67-90671bcd28f3-0', usage_metadata={'input_tokens': 148, 'output_tokens': 22, 'total_tokens': 170})]),\n",
       "   \"\\n        Result for query: India 2024 Lok Sabha elections\\n        Title: 2024 Indian general election - Wikipedia  Peek into article General elections were held in India from 19 April to 1 June 2024 in seven phases, to elect all 543 members of the Lok Sabha. Votes were counted and the\\xa0...  Link for more info: https://en.wikipedia.org/wiki/2024_Indian_general_election\\nTitle: Lokshabha Elections 2024 - Election Updates!!  Peek into article Lok Sabha Elections 2024 - Election Updates ... Election Commission of India submits list of newly elected members to the 18th Lok Sabha to the Hon'ble President\\xa0...  Link for more info: https://elections24.eci.gov.in/\\nTitle: Election Commission of India  Peek into article ... (INDIA) ANDAMAN & NICOBAR ISLANDS (INDIA). Current Elections. General Elections to Lok Sabha 2024 · Andhra Pradesh · Arunachal Pradesh · Odisha · Sikkim · Bye\\xa0...  Link for more info: https://eci.gov.in/\\nTitle: Election Commission of India  Peek into article The final data for each AC/PC will be shared in Form-20. General Election to Parliamentary/Assembly Constituencies: Trends & Results June-2024. Parliamentary\\xa0...  Link for more info: https://results.eci.gov.in/\\nTitle: India election results 2024: Modi claims victory but falls short of full ...  Peek into article Jun 4, 2024 ... NEW DELHI (AP) — Prime Minister Narendra Modi declared victory for his alliance in India's general election, claiming a mandate to move\\xa0...  Link for more info: https://apnews.com/article/india-election-results-2024-lok-sabha-modi-bjp-7893efecc83fa8225a611f174e6420ee\\n    \")]}"
      ]
     },
     "execution_count": 63,
     "metadata": {},
     "output_type": "execute_result"
    }
   ],
   "source": [
    "input = {\"research_topic\": \"India 2024 lok sabha elections\", \"chat_history\": [], \"intermediate_steps\": [], \"agent_outcome\": None}\n",
    "app.invoke(input=input)"
   ]
  },
  {
   "cell_type": "code",
   "execution_count": 45,
   "metadata": {},
   "outputs": [
    {
     "data": {
      "text/plain": [
       "AgentActionMessageLog(tool='google_search', tool_input='India 2024 Lok Sabha elections', log='\\nInvoking: `google_search` with `India 2024 Lok Sabha elections`\\n\\n\\n', message_log=[AIMessage(content='', additional_kwargs={'function_call': {'arguments': '{\"__arg1\":\"India 2024 Lok Sabha elections\"}', 'name': 'google_search'}}, response_metadata={'token_usage': {'completion_tokens': 22, 'prompt_tokens': 148, 'total_tokens': 170}, 'model_name': 'gpt-4o-2024-05-13', 'system_fingerprint': 'fp_dd932ca5d1', 'finish_reason': 'function_call', 'logprobs': None}, id='run-1a50330f-1c12-423f-8fb3-dbd3abd6013a-0', usage_metadata={'input_tokens': 148, 'output_tokens': 22, 'total_tokens': 170})])"
      ]
     },
     "execution_count": 45,
     "metadata": {},
     "output_type": "execute_result"
    }
   ],
   "source": [
    "agent_runnable.invoke({\"research_topic\": \"India 2024 lok sabha elections\", \"chat_history\": [], \"intermediate_steps\": [], \"agent_outcome\": None})"
   ]
  },
  {
   "cell_type": "code",
   "execution_count": null,
   "metadata": {},
   "outputs": [],
   "source": []
  }
 ],
 "metadata": {
  "kernelspec": {
   "display_name": ".venv",
   "language": "python",
   "name": "python3"
  },
  "language_info": {
   "codemirror_mode": {
    "name": "ipython",
    "version": 3
   },
   "file_extension": ".py",
   "mimetype": "text/x-python",
   "name": "python",
   "nbconvert_exporter": "python",
   "pygments_lexer": "ipython3",
   "version": "3.10.12"
  }
 },
 "nbformat": 4,
 "nbformat_minor": 2
}
