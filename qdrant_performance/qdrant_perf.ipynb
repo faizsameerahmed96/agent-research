{
 "cells": [
  {
   "cell_type": "code",
   "execution_count": 50,
   "metadata": {},
   "outputs": [],
   "source": [
    "# !pip install qdrant_client\n",
    "# !pip install --quiet langchain_experimental\n",
    "# %pip install -qU langchain-text-splitters"
   ]
  },
  {
   "cell_type": "code",
   "execution_count": 51,
   "metadata": {},
   "outputs": [],
   "source": [
    "import pymupdf\n",
    "import datetime\n",
    "import os\n",
    "\n",
    "from qdrant_client import QdrantClient, models\n",
    "from langchain_openai import OpenAIEmbeddings\n",
    "import asyncio\n",
    "from qdrant_client.http.models import PointStruct\n",
    "from langchain_experimental.text_splitter import SemanticChunker\n",
    "from langchain_text_splitters import RecursiveCharacterTextSplitter"
   ]
  },
  {
   "cell_type": "code",
   "execution_count": 52,
   "metadata": {},
   "outputs": [],
   "source": [
    "q_client = QdrantClient(url='https://1fbc28ed-4ddf-46fc-bc6c-4c0a7b3c1ea4.us-east4-0.gcp.cloud.qdrant.io', port=6333, api_key=os.getenv('QDRANT_API_KEY', ''), timeout=30000)"
   ]
  },
  {
   "cell_type": "code",
   "execution_count": 53,
   "metadata": {},
   "outputs": [],
   "source": [
    "# This import is required only for jupyter notebooks, since they have their own eventloop\n",
    "import nest_asyncio\n",
    "nest_asyncio.apply()"
   ]
  },
  {
   "cell_type": "code",
   "execution_count": 54,
   "metadata": {},
   "outputs": [],
   "source": [
    "embeddings_model = OpenAIEmbeddings()"
   ]
  },
  {
   "cell_type": "code",
   "execution_count": 55,
   "metadata": {},
   "outputs": [],
   "source": [
    "def extract_text_from_pdf(pdf_path):\n",
    "    doc = pymupdf.open(pdf_path)\n",
    "    text = \"\"\n",
    "    for page in doc:\n",
    "        text += page.get_text()\n",
    "    return text"
   ]
  },
  {
   "cell_type": "code",
   "execution_count": 56,
   "metadata": {},
   "outputs": [],
   "source": [
    "pdf_text = extract_text_from_pdf('tata_motors_report.pdf')"
   ]
  },
  {
   "cell_type": "code",
   "execution_count": 57,
   "metadata": {},
   "outputs": [],
   "source": [
    "text_splitter = RecursiveCharacterTextSplitter(\n",
    "    # Set a really small chunk size, just to show.\n",
    "    chunk_size=500,\n",
    "    chunk_overlap=80,\n",
    "    length_function=len,\n",
    "    is_separator_regex=False,\n",
    ")"
   ]
  },
  {
   "cell_type": "code",
   "execution_count": 58,
   "metadata": {},
   "outputs": [],
   "source": [
    "docs = text_splitter.create_documents([pdf_text])"
   ]
  },
  {
   "cell_type": "code",
   "execution_count": 59,
   "metadata": {},
   "outputs": [
    {
     "data": {
      "text/plain": [
       "[Document(page_content='ICICI Securities – Retail Equity Research \\n \\nResult Update \\nMay 13, 2024 \\nCMP: ₹ 1,000     \\nTarget: ₹ 1,120  (12%)  \\nTarget Period: 12 months  \\nTata Motors (TATMOT) \\n \\nHOLD \\n  \\nFiring on all cylinders, record margins across divisions \\nAbout the stock: Tata Motors (TML) is an auto OEM from the house of Tata’s, \\noperating in domestic (PV, CV) and global markets (Jaguar Land Rover i.e., JLR)  \\n• \\nFY24 consolidated sales mix– JLR ~69%, India CV & PV combined ~30%. \\n•'),\n",
       " Document(page_content='• \\nFY24 consolidated sales mix– JLR ~69%, India CV & PV combined ~30%. \\n• \\nTML India: CV market share: 38%; PV market share ~14% as of FY24 \\nQ4FY24 Results: Tata Motors reported robust Q4FY24 results. Consolidated \\ntopline stood at ₹1.2 lakh crore (up 13%YoY) with EBITDA at ~₹20,247 crore and \\nEBITDA margins at 16.9%, up 50 bps QoQ. JLR reported EBITDA & EBIT margins of \\n16.3% (up 10 bps QoQ) & 9.2% (up 50 bps QoQ) respectively. Indian CV business'),\n",
       " Document(page_content='16.3% (up 10 bps QoQ) & 9.2% (up 50 bps QoQ) respectively. Indian CV business \\nEBITDA margins came in at 12% (by 90 bps QoQ) while PV business EBITDA \\nmargins came in at 7.3% (up 60 bps QoQ). PAT in Q4FY24 came in at ₹17,407 crore \\n(led by operational excellence, also supported by tax credit i.e. creation of DTA). \\nAutomotive net debt reduced from ₹ 43,700 crore (FY23) to ₹ 16,000 crore (FY24) \\nInvestment Rationale \\n• \\nJLR walks the talk on FCF and debt reduction, aims to be net debt free'),\n",
       " Document(page_content='• \\nJLR walks the talk on FCF and debt reduction, aims to be net debt free \\nin FY25E: TML’s overseas luxury PV arm i.e. JLR has performed exceedingly \\nwell in FY24 with record £29 billion of sales, ~16% as EBITDA margins, \\n~8.5% as EBIT margins, ~£ 2.3 billion as FCF generation amid ~£3.2 billion \\nof capex/investment spending. It has reduced its net debt from ~£3 billion \\nto ~£700 million as of FY24 end as against the slated guidance of reducing'),\n",
       " Document(page_content='to ~£700 million as of FY24 end as against the slated guidance of reducing \\nit to below £1 billion. This substantially improves the financial health at JLR \\nwith company now aiming to be net debt free in FY25E amidst pent up \\ncapex spending to the tune of £3.5 billion for FY25E. Amidst healthy \\norderbook of 1.33 lakh units and slew of exciting product launches in the \\npipeline, we expect JLR to continue reporting healthy profitability going'),\n",
       " Document(page_content='pipeline, we expect JLR to continue reporting healthy profitability going \\nforward. We have baked in 16%/8.5% as EBITDA/EBIT margins for FY25E \\nwith similar readings pegged at 17%/9.7% respectively for FY26E.  \\n• \\nIndia business to build upon upgraded margin profile amid demand \\nconsolidation in near term: Domestic CV & PV industry have witnessed \\nhealthy demand recovery over the past couple of years (post-Covid) and \\nare likely to consolidate at present levels in near term driven by high base'),\n",
       " Document(page_content='are likely to consolidate at present levels in near term driven by high base \\nas well as impending union election. TML focus in the interim is to further \\nimprove upon the profitability in this space amidst its proven capabilities \\nacross powertrains (ICE, CNG, Electric, Hydrogen, etc.) and guidance for \\ndouble digit EBITDA margins. On the EV side, it plans to build upon its \\nleadership position in E-PV space with target to sell ~1 lakh E-PVs in FY25E'),\n",
       " Document(page_content='leadership position in E-PV space with target to sell ~1 lakh E-PVs in FY25E \\nand is also a prominent player winning orders in CESL E-bus tenders  \\nRating and Target Price \\n• \\nTata Motors is reporting record performance across all its segments, \\nhowever due to lack of near-term triggers we retain our HOLD rating on \\nthe stock. We value Tata Motors at ₹ 1,120 on SOTP basis (12x, 2.2x FY26E \\nEV/EBITDA to India, JLR; ₹225 value to Indian E-PV & stake in Tata Tech.) \\n  \\n Key Financials (₹ crore)'),\n",
       " Document(page_content='Key Financials (₹ crore) \\nFY20\\nFY21\\nFY22\\nFY23\\nFY24P\\n 5 year CAGR \\n(FY18-24P) \\nFY25E\\nFY26E\\n 2 year CAGR \\n(FY24P-26E) \\nNet Sales\\n2,61,068\\n   \\n2,49,795\\n   \\n2,78,454\\n   \\n3,45,967\\n   \\n4,37,928\\n   \\n7.7%\\n4,66,380\\n   \\n5,05,050\\n   \\n7.4%\\nEBITDA\\n23,914\\n       \\n35,782\\n       \\n34,023\\n       \\n42,492\\n       \\n70,569\\n       \\n18.8%\\n71,466\\n      \\n81,307\\n      \\n7.3%\\nEBITDA Margins (%)\\n9.2\\n              \\n14.3\\n           \\n12.2\\n           \\n12.3\\n           \\n16.1\\n           \\n15.3\\n           \\n16.1'),\n",
       " Document(page_content='12.3\\n           \\n16.1\\n           \\n15.3\\n           \\n16.1\\n           \\nNet Profit\\n(11,975)\\n     \\n(13,451)\\n     \\n(11,441)\\n     \\n2,414\\n         \\n31,399\\n       \\nNM\\n23,358\\n      \\n29,128\\n      \\nNM\\nEPS (₹)\\n(33.3)\\n          \\n(35.1)\\n          \\n(29.9)\\n          \\n6.3\\n              \\n85.3\\n           \\n63.5\\n           \\n79.2\\n           \\nP/E\\n(30.0)\\n          \\n(28.5)\\n          \\n(33.5)\\n          \\n158.6\\n         \\n11.7\\n           \\n15.8\\n           \\n12.6\\n           \\nRoNW (%)\\n(18.7)\\n          \\n(23.8)'),\n",
       " Document(page_content='15.8\\n           \\n12.6\\n           \\nRoNW (%)\\n(18.7)\\n          \\n(23.8)\\n          \\n(23.4)\\n          \\n4.6\\n              \\n33.7\\n           \\n20.5\\n           \\n20.7\\n           \\nRoCE (%)\\n1.3\\n              \\n6.3\\n              \\n4.8\\n              \\n9.8\\n              \\n22.5\\n           \\n21.7\\n           \\n24.1\\n           \\n \\n \\nParticulars \\n \\nParticular\\n₹ crore\\nMarket Capitalization \\n3,67,965\\nTotal Debt (FY24P)\\n98,500\\nCash and Invts (FY24P)\\n60,060\\nEV \\n4,06,405\\n52 week H/L (₹)\\n1,066 / 505'),\n",
       " Document(page_content='98,500\\nCash and Invts (FY24P)\\n60,060\\nEV \\n4,06,405\\n52 week H/L (₹)\\n1,066 / 505\\nEquity capital (₹ crore)\\n766.5\\nFace value (₹)\\n2.0  \\n  \\nShareholding pattern \\n \\n  \\nPrice Chart \\n \\nRecent event & key risks \\n  \\n• \\nReports robust Q4FY24 results \\n• \\nIn \\nrecent \\npast, \\nannounces \\ndemerger \\nof \\nCV \\nand \\nPV \\nbusinesses; mirror shareholding \\n• \\nKey Risk: (i) higher than build in \\nvolume growth at JLR (ii) lower \\nthan \\nbuilt \\nin \\ncash \\nflow \\ngeneration and debt reduction \\nResearch Analyst'),\n",
       " Document(page_content='than \\nbuilt \\nin \\ncash \\nflow \\ngeneration and debt reduction \\nResearch Analyst \\nShashank Kanodia, CFA \\nshashank.kanodia@icicisecurities.com \\nManisha Kesari \\nmanisha.kesari@icicisecurities.com \\nJun-23\\nSep-23\\nDec-23\\nMar-24\\nPromoter\\n46.4\\n      \\n46.4\\n      \\n46.4\\n      \\n46.4\\n      \\nFII\\n17.7\\n      \\n18.4\\n      \\n18.6\\n      \\n19.2\\n      \\nDII\\n17.4\\n      \\n17.4\\n      \\n17.3\\n      \\n16.0\\n      \\nOther\\n18.5\\n      \\n17.9\\n      \\n17.8\\n      \\n18.4\\n      \\n \\n   \\n1    \\n1    \\n \\n    \\n1    \\n1    \\n2    \\n2    \\n ay 21\\n o  21'),\n",
       " Document(page_content='18.4\\n      \\n \\n   \\n1    \\n1    \\n \\n    \\n1    \\n1    \\n2    \\n2    \\n ay 21\\n o  21\\n ay 22\\n o  22\\n ay 2 \\n o  2 \\n ay 24\\n i ty (   )\\nT   (   )\\n \\n \\nSource: Company, ICICI Direct Research \\n \\nKey Financial Summary \\n \\n \\n \\nICICI Securities | Retail Research \\n \\n2 \\nICICI Direct Research \\n \\nResult Update | Tata Motors \\nQ4FY24 Earnings Conference Call Highlights \\nJaguar Land Rover \\n• \\nOrder Book: The order book at the end of FY24 was around 133,000'),\n",
       " Document(page_content='• \\nOrder Book: The order book at the end of FY24 was around 133,000 \\nvehicles, out of which 76% of orders were from Range Rover, Range Rover \\nSport, and Defender. Demand for Range Rover Sport Vehicle more than \\ndoubled to 4,099 units in FY24, with an average price point of ~ £202,000. \\nThis also includes the sale of 20 Range Rover SV Bespoke sadaf editions \\nselling out at higher price point of ~ £330,000 each. \\n \\n• \\nNew Launches: The new Defender OCTA to be revealed on 3rd July’24'),\n",
       " Document(page_content='• \\nNew Launches: The new Defender OCTA to be revealed on 3rd July’24  \\ntouted as the ultimate range rover. New Range Rover electric has \\ngenerated over 28,700 on the waiting list and is expected to be delivered \\nnext year. A new Jaguar will also launch by end of the next year.  \\n \\n• \\nOthers: JLR reported free cashflow of £892 million for Q4FY24 and a record \\n£2.3 billion for FY24. Net Cash and Net Debt for the year ended FY24 stood'),\n",
       " Document(page_content='£2.3 billion for FY24. Net Cash and Net Debt for the year ended FY24 stood \\nat £4.2 billion and £0.7 billion, respectively. Investment spending is \\nanticipated to be £3.5 billion in FY25. It aims to became a net debt free \\ncompany by end of FY25. Dividend paid by JLR in the region of £400 million. \\nIt has paid a cash tax of £333 million and expect tax range to be in the \\nrange of 25% to 29% in FY25. \\nIndian Passenger Vehicle \\n•'),\n",
       " Document(page_content='range of 25% to 29% in FY25. \\nIndian Passenger Vehicle \\n• \\nIndustry Guidance: TML anticipates PV industry to grow by less than 5% \\nin FY25 due to high base effect and higher channel inventory. However, \\nthe secular growth trend for PV industry is expected to be at 6% to 8%, \\nprimary driven by Electric Vehicle and CNG segment. The share of SUVs \\ncontribution has increased to >50% and expects to continue this demand \\ntraction particularly in the mid-size and sub-compact segment. \\n \\n•'),\n",
       " Document(page_content='traction particularly in the mid-size and sub-compact segment. \\n \\n• \\nElectric Vehicle & New Launches: TML continued to improve profitability \\nin EV segment for the second consecutive quarter. It has passed on a \\nbenefit of reduction in battery prices to the customer by taking a price cut \\nin Q4FY24. TML will launch new nameplate Curvv in H2CY24, a mid-size \\nSUV category, the segment that has reported highest growth in FY24. It'),\n",
       " Document(page_content='SUV category, the segment that has reported highest growth in FY24. It \\nwill be focusing on driving higher penetration of EVs and CNGs products \\nin certain cities. Additionally, it will also launch Sierra in H2CY25. Moreover, \\nit will also launch petrol version of Harrier Safari in FY25 and thereafter EV \\nversion in the coming years. The sales of diesel variant of Harrier Safari \\nhave increased from 3500 units in H1FY24 to 4500 units in H2FY24. \\n \\nCommercial Vehicle \\n•'),\n",
       " Document(page_content='Commercial Vehicle \\n• \\nNew Launches: It has launched a new variant of ACE carrying a payload \\nof 1 ton. This new model will provide 30% better Total cost of ownership \\n(TCO), partly addressing challenges from withdrawal of FAME incentives. \\n \\n• \\nElectric Buses: TML has deployed more than 1700 electric buses in FY24 \\nand has received a tender of supplying more than 1200 buses in FY25. It is \\nin continue engagement with the government for Payment security'),\n",
       " Document(page_content='in continue engagement with the government for Payment security \\nmechanism and an asset light business model. \\n \\n• \\nManagement Guidance: TML expects a slowdown in CV in Q1FY25 but \\ndemand will pick up from Q2FY25. It remains cautiously optimistic and \\nexpects overall CV industry growth to be flat to slightly declining range in \\nFY25. However, it anticipates higher demand for high tonnage vehicles, \\nespecially those above 48-ton multi axle vehicle segment.'),\n",
       " Document(page_content='especially those above 48-ton multi axle vehicle segment. \\n \\nManagement Guidance: JLR expects EBIT \\nmargins for FY25 to be at similar levels \\nreported in FY24. It will have higher spend \\ntowards variable marketing expenses, \\nwhich will be offset by operational cost \\nreduction and operating leverage through \\nhigher production volume of Range Rover \\nand Range Rover Sports in FY25. JLR \\nanticipates an improvement in EBIT \\nmargins to 10% in FY26, driven by new \\nlaunches.'),\n",
       " Document(page_content='margins to 10% in FY26, driven by new \\nlaunches. \\n \\nSanand Plant and PLI: Sanand Plant \\nwas commissioned in January’24 and \\ncurrently ramped up to 6500 units per \\nmonth. It expects to ramp up to 10,000 \\nunits per month and further increase to \\n15,000 to 16,000 units per month. TML \\nreceived the PLI certificate for Tiago EV, \\nwith the SOP of disbursement being \\nfinalized and expected to be completed \\nby H2FY25. TML will also apply for PLI \\nfor additional new products in H1 FY25.'),\n",
       " Document(page_content='for additional new products in H1 FY25. \\nOthers:  TML witnessed an increase in \\nfirst time buyers particularly from \\nprofessionals for its EV offerings.  \\n \\nCommodity Cost Inflation: TML has \\nwitnessed an increase in commodity \\ncosts in casting, forgings, tyres, and \\naluminium, which will impact the \\nmargins. It will take an appropriate \\nprice hike at the right time. However, \\nbattery prices are still expected to \\ndecline to a certain level. \\n \\n \\n \\n \\nICICI Securities | Retail Research \\n \\n3'),\n",
       " Document(page_content='decline to a certain level. \\n \\n \\n \\n \\nICICI Securities | Retail Research \\n \\n3 \\nICICI Direct Research \\n \\nResult Update | Tata Motors \\nKey Tables and Charts \\nExhibit 1: Quarterly Analysis \\nQ4FY24\\nQ4FY23\\nYoY (%)\\nQ3FY24 QoQ (%)\\nComments\\nTotal Operating Income\\n1,19,986\\n1,05,932\\n13.3\\n1,10,577\\n8.5\\nCompany\\nreported\\nhealthy\\ntopline\\ngrowth of 13% YoY at ₹ 1.2 lakh crore\\nRaw Material Expenses\\n73,785\\n68,194\\n8.2\\n68,278\\n8.1\\nSavings were realised on the RM front\\nwith gross margins up 30 bps QoQ'),\n",
       " Document(page_content='8.1\\nSavings were realised on the RM front\\nwith gross margins up 30 bps QoQ\\nEmployee Expenses\\n11,434\\n9,378\\n21.9\\n11,102\\n3.0\\nOther expenses\\n21,874\\n18,431\\n    \\n18.7\\n19,895\\n    \\n9.9\\nOther expenses stood marginally higher\\nOperating Profit (EBITDA)\\n20,247\\n15,622\\n    \\n29.6\\n18,074\\n    \\n12.0\\nEBITDA Margin (%)\\n16.9\\n        \\n14.7 213 bps \\n16.3 53 bps \\nEBITDA margins at TML further improved\\n50 bps QoQ at 16.9% led by record\\nmargin\\nprofile across all its segments\\nnamely JLR, India CV & PV\\nDepreciation\\n7,151'),\n",
       " Document(page_content='profile across all its segments\\nnamely JLR, India CV & PV\\nDepreciation\\n7,151\\n      \\n7,050\\n      \\n1.4\\n6,850\\n      \\n4.4\\nInterest\\n2,234\\n      \\n2,642\\n      \\n-15.4\\n2,485\\n      \\n-10.1\\nInterest\\nexpenses\\ndeclined\\ndue\\nto\\nreduction in debt\\nProduct develop. Exp.\\n3,254\\n      \\n2,812\\n      \\n15.7\\n2,740\\n      \\n18.7\\nTax\\n(8,159)\\n     \\n(621)\\n        \\nNM\\n542\\n         \\nNM\\nTax came in negative due to tax credit\\naccounted due to creation of DTA at JLR\\nPAT\\n17,407\\n    \\n5,408\\n      \\n-221.9\\n7,025\\n      \\n147.8'),\n",
       " Document(page_content='PAT\\n17,407\\n    \\n5,408\\n      \\n-221.9\\n7,025\\n      \\n147.8\\nPAT came in healthy supported by record\\nprofitability as well as negative tax rate\\nEPS\\n47.3\\n        \\n14.7\\n        \\n221.9\\n19.1\\n        \\n147.8\\nKey Metrics\\nJLR sales ( mn GBP)\\n7,860\\n      \\n7,102\\n      \\n10.7\\n     \\n7,375\\n      \\n6.6\\n      \\nJLR margins (%)\\n16.3\\n        \\n14.6\\n        \\n170 bps \\n16.2\\n        \\n10 bps \\nJLR surprised positively on margins front\\nJLR PAT (mn GBP)\\n1,391.0\\n   \\n259.0\\n      \\n437.1\\n   \\n592.0\\n      \\n(135)'),\n",
       " Document(page_content='JLR PAT (mn GBP)\\n1,391.0\\n   \\n259.0\\n      \\n437.1\\n   \\n592.0\\n      \\n(135)\\n    \\nPAT came in substantially positive on\\naccount of DTA charge (tax credit)\\n \\n \\nSource: Company, ICICI Direct Research \\n \\nExhibit 2: Assumptions  \\nUnits \\nFY21\\nFY22\\nFY23\\nFY24\\nFY25E\\nFY26E\\nJLR\\nJaguar Sales Volume\\n90,440\\n68,405\\n63,001\\n49,561\\n49,239\\n49,239\\nLand Rover Sales Volume\\n3,22,471\\n2,79,245\\n3,09,216\\n3,51,742\\n3,81,115\\n4,09,670\\nTotal JLR Sales Volume \\n4,12,911\\n          \\n3,47,650\\n          \\n3,72,217\\n          \\n4,01,303'),\n",
       " Document(page_content='4,12,911\\n          \\n3,47,650\\n          \\n3,72,217\\n          \\n4,01,303\\n          \\n4,30,354\\n          \\n4,58,909\\n          \\nGrowth (YoY, %)\\n-21%\\n-16%\\n7%\\n8%\\n7%\\n7%\\nIndia\\nM&HCV \\n90,152\\n1,34,797\\n1,87,185\\n1,84,216\\n1,86,859\\n1,96,202\\nLCV\\n1,72,618\\n2,22,174\\n2,26,354\\n2,11,630\\n2,16,018\\n2,26,819\\nPV\\n2,22,591\\n3,72,174\\n5,41,087\\n5,73,495\\n5,74,542\\n6,09,069\\nTotal India Sales Volume\\n4,85,361\\n          \\n7,29,145\\n          \\n9,54,626\\n          \\n9,69,340\\n          \\n9,77,419\\n          \\n10,32,089'),\n",
       " Document(page_content='9,69,340\\n          \\n9,77,419\\n          \\n10,32,089\\n        \\n \\nSource: ICICI Direct Research; JLR volumes till FY23 included CJLR numbers, FY24 onwards it is excluding CJLR \\n \\nExhibit 3: SOTP valuation \\nParticulars\\nParameters\\nFY26E EBITDA \\n(₹ crore)\\nEV/EBITDA \\nMultiple (x)\\nResultant EV \\n(₹ crore)\\nTata Motors India business (CV, PV, Ex-Electric-PV)\\nFY26E EV/EBITDA\\n15,277\\n12.0\\n1,83,325\\nJLR\\nFY26E EV/EBITDA\\n60,949\\n2.2\\n1,34,089\\nIndia EV business (PV)\\n~11% stake sale @₹7,500 cr\\nNA\\nNA\\n60,682'),\n",
       " Document(page_content='2.2\\n1,34,089\\nIndia EV business (PV)\\n~11% stake sale @₹7,500 cr\\nNA\\nNA\\n60,682\\nTata Technologies Stake Valuation\\n53.4% stake @ ₹ 41,000 crore\\nNA\\nNA\\n21,894\\nOther Investments\\n2x P/B on FY26E\\n5,868\\n2.0\\n11,736\\nTotal Enterprise Value (EV)\\n        4,11,725 \\nNet Debt\\nFY26E\\n-2,205\\nResultant Equity Value (target market cap)\\n4,13,930\\nTarget Price per share (₹/share)\\n1,120\\n \\nSource: ICICI Direct Research \\n  \\n \\n \\n \\n \\nICICI Securities | Retail Research \\n \\n4 \\nICICI Direct Research'),\n",
       " Document(page_content='ICICI Securities | Retail Research \\n \\n4 \\nICICI Direct Research \\n \\nResult Update | Tata Motors \\nFinancial Summary (Consolidated) \\nExhibit 4: Profit and loss statement                                    ₹ crore \\n(Year-end March)\\nFY23\\nFY24P\\nFY25E\\nFY26E\\nTotal operating Income\\n3,45,967\\n \\n4,37,928\\n \\n4,66,380\\n \\n5,05,050\\n \\nGrowth (%)\\n24.2\\n26.6\\n6.5\\n8.3\\nRaw Material Expenses\\n2,26,470\\n2,72,756\\n2,92,562\\n3,14,334\\nEmployee Expenses\\n33,655\\n42,487\\n44,637\\n48,299\\nMarketing Expenses\\n61,786\\n78,875'),\n",
       " Document(page_content='Employee Expenses\\n33,655\\n42,487\\n44,637\\n48,299\\nMarketing Expenses\\n61,786\\n78,875\\n85,698\\n91,413\\nCapitalised Expenses\\n-18,435\\n-26,758\\n-27,983\\n-30,303\\nTotal Operating Expenditure\\n3,03,475\\n3,67,359\\n3,94,913\\n4,23,743\\nEBITDA\\n42,492\\n     \\n70,569\\n     \\n71,466\\n     \\n81,307\\n     \\nGrowth (%)\\n24.9\\n66.1\\n1.3\\n13.8\\nProduct development Exp\\n10662\\n10959\\n11082\\n12159\\nDepreciation\\n24860\\n27270\\n29382\\n31818\\nInterest\\n10225\\n9986\\n6195\\n4970\\nOther Income\\n4633\\n5950\\n6069\\n6232\\nPBT\\n12,129\\n     \\n39,191\\n     \\n41,958\\n     \\n50,750'),\n",
       " Document(page_content='4633\\n5950\\n6069\\n6232\\nPBT\\n12,129\\n     \\n39,191\\n     \\n41,958\\n     \\n50,750\\n     \\nMinority Interest\\n276\\n408\\n534\\n588\\nTotal Tax\\n704\\n-3852\\n7719\\n9648\\nReported PAT\\n2,414\\n       \\n31,399\\n     \\n23,358\\n     \\n29,128\\n     \\nGrowth (%)\\n-121.1\\n1,200.5\\n-25.6\\n24.7\\nEP  (₹)\\n6.3\\n            \\n85.3\\n         \\n63.5\\n         \\n79.2\\n         \\n \\nSource: Company, ICICI Direct Research \\nExhibit 5: Cash flow statement                                         ₹ crore \\n(Year-end March)\\nFY23\\nFY24P\\nFY25E\\nFY26E\\nProfit after Tax\\n2,414.3'),\n",
       " Document(page_content='(Year-end March)\\nFY23\\nFY24P\\nFY25E\\nFY26E\\nProfit after Tax\\n2,414.3\\n  \\n31,399.0\\n \\n23,358.2\\n \\n29,127.6\\n \\nAdd: Depreciation\\n24,860\\n27,270\\n29,382\\n31,818\\n(Inc)/dec in Current Assets\\n-12,075\\n-12,658\\n-6,033\\n-7,936\\nInc/(dec) in CL and Provisions\\n9,223\\n20,087\\n5,065\\n11,309\\nOthers\\n10,225\\n9,986\\n6,195\\n4,970\\nCF from operating activities\\n34,647\\n   \\n76,085\\n     \\n57,967\\n     \\n69,290\\n     \\n(Inc)/dec in Investments\\n3,000\\n3,408\\n5,750\\n-10,250\\n(Inc)/dec in Fixed Assets\\n-22,075\\n-37,880\\n-38,500\\n-32,000\\nOthers\\n3,662'),\n",
       " Document(page_content='-10,250\\n(Inc)/dec in Fixed Assets\\n-22,075\\n-37,880\\n-38,500\\n-32,000\\nOthers\\n3,662\\n-4,771\\n236\\n500\\nCF from investing activities \\n(15,412)\\n \\n(39,243)\\n   \\n(32,514)\\n   \\n(41,750)\\n   \\nIssue/(Buy back) of Equity\\n0\\n0\\n-31\\n0\\nInc/(dec) in loan funds\\n-14,017\\n-27,160\\n-20,000\\n-15,000\\nDividend paid & dividend tax\\n0\\n0\\n0\\n0\\nInc/(dec) in Sec. premium\\n0\\n0\\n0\\n0\\nOthers (incl finance costs)\\n-8,873\\n-891\\n-8,403\\n-7,914\\nCF from financing activities\\n(22,889)\\n \\n(28,051)\\n   \\n(28,434)\\n   \\n(22,914)\\n   \\nNet Cash flow\\n-3,654\\n8,791'),\n",
       " Document(page_content='(22,889)\\n \\n(28,051)\\n   \\n(28,434)\\n   \\n(22,914)\\n   \\nNet Cash flow\\n-3,654\\n8,791\\n-2,981\\n4,626\\nOpening Cash\\n40,669\\n37,016\\n45,807\\n42,826\\nClosing Cash\\n37,016\\n   \\n45,807\\n     \\n42,826\\n     \\n47,452\\n     \\n \\nSource: Company, ICICI Direct Research \\n \\nExhibit 6: Balance Sheet                                                     ₹ crore \\n(Year-end March)\\nFY23\\nFY24P\\nFY25E\\nFY26E\\nLiabilities\\nEquity Capital\\n766\\n767\\n735\\n735\\nReserve and Surplus\\n44,556\\n84,151\\n1,05,302\\n1,31,486\\nOthers\\n7,278\\n8,176\\n8,176\\n8,176'),\n",
       " Document(page_content='44,556\\n84,151\\n1,05,302\\n1,31,486\\nOthers\\n7,278\\n8,176\\n8,176\\n8,176\\nTotal Shareholders funds\\n52,600\\n     \\n93,094\\n     \\n1,14,213\\n \\n1,40,397\\n \\nTotal Debt\\n1,25,660\\n98,500\\n78,500\\n63,500\\nDeferred Tax Liability\\n1,407\\n1,143\\n1,218\\n1,319\\nLong term provisions\\n13,197\\n     \\n16,537\\n     \\n17,611\\n     \\n19,071\\n     \\nMinority Interest / Others\\n26,040\\n24,124\\n25,692\\n27,822\\nTotal Liabilities\\n2,18,903\\n \\n2,33,398\\n \\n2,37,234\\n \\n2,52,109\\n \\nAssets\\nGross Block\\n3,89,734\\n4,06,191\\n4,44,191\\n4,76,691\\nLess: Acc Depreciation'),\n",
       " Document(page_content='Assets\\nGross Block\\n3,89,734\\n4,06,191\\n4,44,191\\n4,76,691\\nLess: Acc Depreciation\\n2,58,495\\n2,85,765\\n3,15,147\\n3,46,966\\nNet Block\\n1,31,239\\n \\n1,20,425\\n \\n1,29,043\\n \\n1,29,725\\n \\nCapital WIP\\n14,275\\n35,698\\n36,198\\n35,698\\nTotal Fixed Assets\\n1,45,514\\n \\n1,56,124\\n \\n1,65,242\\n \\n1,65,424\\n \\nInvestments\\n26,379\\n22,971\\n17,221\\n27,471\\nInventory\\n40,755\\n47,788\\n51,110\\n55,348\\nDebtors\\n15,738\\n16,952\\n17,889\\n19,372\\nLoans and Advances\\n2,303\\n2,500\\n2,662\\n2,883\\nCash\\n37,016\\n     \\n45,807\\n     \\n42,826\\n     \\n47,452'),\n",
       " Document(page_content='2,500\\n2,662\\n2,883\\nCash\\n37,016\\n     \\n45,807\\n     \\n42,826\\n     \\n47,452\\n     \\nTotal Current Assets\\n1,32,690\\n1,54,139\\n1,57,191\\n1,69,753\\nCreditors\\n72,056\\n88,043\\n90,720\\n98,243\\nProvisions\\n11,811\\n12,292\\n12,665\\n13,715\\nTotal Current Liabilities\\n1,17,178\\n1,37,265\\n1,42,331\\n1,53,640\\nNet Current Assets\\n15,512\\n     \\n16,873\\n     \\n14,861\\n     \\n16,113\\n     \\nDeferred Tax Asset\\n5,185\\n13,099\\n13,950\\n15,107\\nApplication of Funds\\n2,18,903\\n \\n2,33,398\\n \\n2,37,234\\n \\n2,52,109\\n \\n \\nSource: Company, ICICI Direct Research'),\n",
       " Document(page_content='2,33,398\\n \\n2,37,234\\n \\n2,52,109\\n \\n \\nSource: Company, ICICI Direct Research \\n \\nExhibit 7: Key ratios \\n(Year-end March)\\nFY23\\nFY24P\\nFY25E\\nFY26E\\nPer share data (₹)\\nEPS\\n6.3\\n85.3\\n63.5\\n79.2\\nCash EPS\\n71.2\\n153.2\\n143.3\\n165.6\\nBV\\n137.4\\n243.1\\n310.4\\n381.6\\nDPS\\n2.0\\n6.0\\n6.0\\n8.0\\nCash Per Share\\n145.9\\n156.9\\n138.8\\n178.6\\nOperating Ratios\\nEBITDA Margin (%)\\n12.3\\n16.1\\n15.3\\n16.1\\nPBT / Net sales (%)\\n5.1\\n9.9\\n9.0\\n9.8\\nPAT Margin  (%)\\n-7.0\\n-1.2\\n3.3\\n5.1\\nInventory days\\n43.0\\n39.8\\n40.0\\n40.0\\nDebtor days\\n16.6\\n14.1\\n14.0\\n14.0'),\n",
       " Document(page_content='-1.2\\n3.3\\n5.1\\nInventory days\\n43.0\\n39.8\\n40.0\\n40.0\\nDebtor days\\n16.6\\n14.1\\n14.0\\n14.0\\nCreditor days\\n76.0\\n73.4\\n71.0\\n71.0\\nReturn Ratios (%)\\nRoE\\n4.6\\n33.7\\n20.5\\n20.7\\nRoCE\\n9.8\\n22.5\\n21.7\\n24.1\\nRoIC\\n16.1\\n44.6\\n39.5\\n47.7\\nValuation Ratios (x)\\nP/E \\n158.6\\n11.7\\n15.8\\n12.6\\nEV / EBITDA\\n10.3\\n5.8\\n5.5\\n4.5\\nEV / Net Sales\\n1.3\\n0.9\\n0.8\\n0.7\\nMarket Cap / Sales\\n1.1\\n0.8\\n0.8\\n0.7\\nPrice to Book Value\\n7.3\\n4.1\\n3.2\\n2.6\\nSolvency Ratios\\nDebt/EBITDA\\n3.0\\n1.4\\n1.1\\n0.8\\nDebt / Equity\\n2.4\\n1.1\\n0.7\\n0.5\\nCurrent Ratio\\n0.6\\n0.6\\n0.7\\n0.7\\nQuick Ratio'),\n",
       " Document(page_content='1.1\\n0.8\\nDebt / Equity\\n2.4\\n1.1\\n0.7\\n0.5\\nCurrent Ratio\\n0.6\\n0.6\\n0.7\\n0.7\\nQuick Ratio\\n0.3\\n          \\n0.3\\n            \\n0.3\\n            \\n0.3\\n            \\n \\nSource: Company, ICICI Direct Research \\n \\n \\n \\n \\n \\n \\nICICI Securities | Retail Research \\n \\n5 \\nICICI Direct Research \\n \\nResult Update | Tata Motors \\n \\n \\n \\n \\n \\nRATING RATIONALE \\nICICI Direct endeavors to provide objective opinions and recommendations. ICICI Direct assigns ratings to its'),\n",
       " Document(page_content=\"stocks according -to their notional target price vs. current market price and then categorizes them as Buy, \\nHold, Reduce and Sell. The performance horizon is two years unless specified and the notional target price is \\ndefined as the analysts' valuation for a stock \\n \\nBuy: >15%  \\nHold: -5% to 15%; \\nReduce: -15% to -5%; \\nSell: <-15% \\n \\n \\n \\nPankaj Pandey \\nHead – Research \\npankaj.pandey@icicisecurities.com \\n \\n \\nICICI Direct Research Desk, \\nICICI Securities Limited, \\nThird Floor, Brillanto House,\"),\n",
       " Document(page_content='ICICI Securities Limited, \\nThird Floor, Brillanto House, \\nRoad No 13, MIDC, \\nAndheri (East) \\nMumbai – 400 093 \\n \\n \\nresearch@icicidirect.com \\n \\n \\n \\n \\n \\n \\nICICI Securities | Retail Research \\n \\n6 \\nICICI Direct Research \\n \\nResult Update | Tata Motors \\n \\nANALYST CERTIFICATION \\nI/We, Shashank Kanodia, CFA, MBA (Capital Markets), Manisha Kesari (PGDM-Finance) Research Analysts, authors and the names subscribed to this report, hereby certify that all of the'),\n",
       " Document(page_content='views expressed in this research report accurately reflect our views about the subject issuer(s) or securities. We also certify that no part of our compensation was, is, or will be directly or \\nindirectly related to the specific recommendation(s) or view(s) in this report. It is also confirmed that above mentioned Analysts of this report have not received any compensation from the'),\n",
       " Document(page_content='companies mentioned in the report in the preceding twelve months and do not serve as an officer, director or employee of the companies mentioned in the report. \\n \\nTerms & conditions and other disclosures:  \\nICICI Securities Limited (ICICI Securities) is a full-service, integrated investment banking and is, inter alia, engaged in the business of stock brokering and distribution of financial products.'),\n",
       " Document(page_content='ICICI Securities is Sebi registered stock broker, merchant banker, investment adviser, portfolio manager and Research Analyst. ICICI Securities is registered with Insurance Regulatory \\nDevelopment Authority of India Limited (IRDAI) as a composite corporate agent and with PFRDA as a Point of Presence. ICICI Securities Limited Research Analyst SEBI Registration Number'),\n",
       " Document(page_content='– INH000000990. ICICI Securities Limited SEBI Registration is INZ000183631 for stock broker. Registered Office Address: ICICI Venture House, Appasaheb Marathe Marg, Prabhadevi, \\nMumbai - 4    2 . CI :  6712   199 P C 86241  Tel: (91 22) 68 7 71  . ICICI  ecurities is a subsidiary o  ICICI Bank which is India’s largest private sector bank and has its various'),\n",
       " Document(page_content='subsidiaries engaged in businesses of housing  inance  asset management  li e insurance  general insurance   enture capital  und management  etc. (“associates”)  the details in respect of \\nwhich are available on www.icicibank.com. \\n \\nInvestments in securities market are subject to market risks. Read all the related documents carefully before \\ninvesting.'),\n",
       " Document(page_content='investing.  \\n \\nRegistration granted by Sebi and certification from NISM in no way guarantee performance of the intermediary or provide any assurance of returns to investors. None of the research \\nrecommendations promise or guarantee any assured, minimum or risk-free return to the investors. \\n \\nName of the Compliance officer (Research Analyst): Mr. Atul Agarwal \\nContact number: 022-40701000 E-mail Address: complianceofficer@icicisecurities.com'),\n",
       " Document(page_content='For any queries or grievances: Mr. Prabodh Avadhoot Email address: headservicequality@icicidirect.com Contact Number: 18601231122 \\n \\nICICI Securities is one of the leading merchant bankers/ underwriters of securities and participate in virtually all securities trading markets in India. We and our associates might have'),\n",
       " Document(page_content='investment banking and other business relationship with a significant percentage of companies covered by our Investment Research Department. ICICI Securities and its analysts, persons \\nreporting to analysts and their relatives are generally prohibited from maintaining a financial interest in the securities or derivatives of any companies that the analysts cover.'),\n",
       " Document(page_content=\"Recommendation in reports based on technical and derivative analysis centre on studying charts of a stock's price movement, outstanding positions, trading volume etc as opposed to \\nfocusing on a company's fundamentals and, as such, may not match with the recommendation in fundamental reports. Investors may visit icicidirect.com to view the Fundamental and \\nTechnical Research Reports.\"),\n",
       " Document(page_content='Technical Research Reports. \\n \\nOur proprietary trading and investment businesses may make investment decisions that are inconsistent with the recommendations expressed herein.  \\n \\nICICI Securities Limited has two independent equity research groups: Institutional Research and Retail Research. This report has been prepared by the Retail Research. The views and'),\n",
       " Document(page_content='opinions expressed in this document may or may not match or may be contrary with the views, estimates, rating, and target price of the Institutional Research. \\n \\nThe information and opinions in this report have been prepared by ICICI Securities and are subject to change without any notice. The report and information contained herein is strictly'),\n",
       " Document(page_content='confidential and meant solely for the selected recipient and may not be altered in any way, transmitted to, copied or distributed, in part or in whole, to any other person or to the media or \\nreproduced in any form, without prior written consent of ICICI Securities. While we would endeavour to update the information herein on a reasonable basis, ICICI Securities is under no'),\n",
       " Document(page_content='obligation to update or keep the information current. Also, there may be regulatory, compliance or other reasons that may prevent ICICI Securities from doing so. Non-rated securities \\nindicate that rating on a particular security has been suspended temporarily and such suspension is in compliance with applicable regulations and/or ICICI Securities policies, in \\ncircumstances where ICICI Securities might be acting in an advisory capacity to this company, or in certain other circumstances.'),\n",
       " Document(page_content='This report is based on information obtained from public sources and sources believed to be reliable, but no independent verification has been made nor is its accuracy or completeness \\nguaranteed. This report and information herein is solely for informational purpose and shall not be used or considered as an offer document or solicitation of offer to buy or sell or subscribe'),\n",
       " Document(page_content='for securities or other financial instruments. Though disseminated to all the customers simultaneously, not all customers may receive this report at the same time. ICICI Securities will not \\ntreat recipients as customers by virtue of their receiving this report. Nothing in this report constitutes investment, legal, accounting and tax advice or a representation that any investment'),\n",
       " Document(page_content='or strategy is suitable or appropriate to your specific circumstances. The securities discussed and opinions expressed in this report may not be suitable for all investors, who must make \\ntheir own investment decisions, based on their own investment objectives, financial positions and needs of specific recipient. This may not be taken in substitution for the exercise of'),\n",
       " Document(page_content='independent judgment by any recipient. The recipient should independently evaluate the investment risks. The value and return on investment may vary because of changes in interest rates, \\nforeign exchange rates or any other reason. ICICI Securities accepts no liabilities whatsoever for any loss or damage of any kind arising out of the use of this report. Past performance is not'),\n",
       " Document(page_content='necessarily a guide to future performance. Investors are advised to see Risk Disclosure Document to understand the risks associated before investing in the securities markets. Actual results \\nmay differ materially from those set forth in projections. Forward-looking statements are not predictions and may be subject to change without notice.'),\n",
       " Document(page_content='ICICI Securities or its associates might have managed or co-managed public offering of securities for the subject company or might have been mandated by the subject company for any \\nother assignment in the past twelve months.  \\n \\nICICI Securities or its associates might have received any compensation from the companies mentioned in the report during the period preceding twelve months from the date of this report'),\n",
       " Document(page_content='for services in respect of managing or co-managing public offerings, corporate finance, investment banking or merchant banking, brokerage services or other advisory service in a merger \\nor specific transaction.  \\n \\nICICI Securities or its associates might have received any compensation for products or services other than investment banking or merchant banking or brokerage services from the \\ncompanies mentioned in the report in the past twelve months.'),\n",
       " Document(page_content='companies mentioned in the report in the past twelve months. \\n \\n \\nICICI Securities encourages independence in research report preparation and strives to minimize conflict in preparation of research report. ICICI Securities or its associates or its analysts \\ndid not receive any compensation or other benefits from the companies mentioned in the report or third party in connection with preparation of the research report. Accordingly, neither'),\n",
       " Document(page_content='ICICI Securities nor Research Analysts and their relatives have any material conflict of interest at the time of publication of this report.  \\n \\nCompensation of our Research Analysts is not based on any specific merchant banking, investment banking or brokerage service transactions.  \\n \\nICICI Securities or its subsidiaries collectively or Research Analysts or their relatives do not own 1% or more of the equity securities of the Company mentioned in the report as of the last'),\n",
       " Document(page_content='day of the month preceding the publication of the research report.  \\n \\nSince associates of ICICI Securities and ICICI Securities as a entity are engaged in various financial service businesses, they might have financial interests or actual/ beneficial ownership of \\none percent or more or other material conflict of interest various companies including the subject company/companies mentioned in this report.'),\n",
       " Document(page_content='ICICI Securities may have issued other reports that are inconsistent with and reach different conclusion from the information presented in this report.  \\n \\nNeither the Research Analysts nor ICICI Securities have been engaged in market making activity for the companies mentioned in the report.  \\n \\nWe submit that no material disciplinary action has been taken on ICICI Securities by any Regulatory Authority impacting Equity Research Analysis activities.'),\n",
       " Document(page_content='This report is not directed or intended for distribution to, or use by, any person or entity who is a citizen or resident of or located in any locality, state, country or other jurisdiction, where \\nsuch distribution, publication, availability or use would be contrary to law, regulation or which would subject ICICI Securities and affiliates to any registration or licensing requirement within'),\n",
       " Document(page_content='such jurisdiction. The securities described herein may or may not be eligible for sale in all jurisdictions or to certain category of investors. Persons in whose possession this document may \\ncome are required to inform themselves of and to observe such restriction.')]"
      ]
     },
     "execution_count": 59,
     "metadata": {},
     "output_type": "execute_result"
    }
   ],
   "source": [
    "docs"
   ]
  },
  {
   "cell_type": "code",
   "execution_count": 60,
   "metadata": {},
   "outputs": [],
   "source": [
    "embeddings = embeddings_model.embed_documents([doc.page_content for doc in docs])"
   ]
  },
  {
   "cell_type": "code",
   "execution_count": 61,
   "metadata": {},
   "outputs": [
    {
     "name": "stderr",
     "output_type": "stream",
     "text": [
      "/var/folders/jf/d7hl_vg15xx8_tthmb2h0ygw0000gn/T/ipykernel_49273/574329251.py:1: DeprecationWarning: `recreate_collection` method is deprecated and will be removed in the future. Use `collection_exists` to check collection existence and `create_collection` instead.\n",
      "  q_client.recreate_collection(collection_name='financial_reports', vectors_config=models.VectorParams(size=1536, distance=models.Distance.COSINE))\n"
     ]
    },
    {
     "data": {
      "text/plain": [
       "True"
      ]
     },
     "execution_count": 61,
     "metadata": {},
     "output_type": "execute_result"
    }
   ],
   "source": [
    "q_client.recreate_collection(collection_name='financial_reports', vectors_config=models.VectorParams(size=1536, distance=models.Distance.COSINE))"
   ]
  },
  {
   "cell_type": "code",
   "execution_count": 62,
   "metadata": {},
   "outputs": [
    {
     "data": {
      "text/plain": [
       "UpdateResult(operation_id=0, status=<UpdateStatus.COMPLETED: 'completed'>)"
      ]
     },
     "execution_count": 62,
     "metadata": {},
     "output_type": "execute_result"
    }
   ],
   "source": [
    "q_client.upsert(collection_name='financial_reports', points=[PointStruct(id=idx, vector=embeddings[idx], payload={\"content\": doc.page_content}) for idx, doc in enumerate(docs)])"
   ]
  },
  {
   "cell_type": "code",
   "execution_count": 64,
   "metadata": {},
   "outputs": [
    {
     "data": {
      "text/plain": [
       "[ScoredPoint(id=0, version=0, score=0.8648046, payload={'content': 'ICICI Securities – Retail Equity Research \\n \\nResult Update \\nMay 13, 2024 \\nCMP: ₹ 1,000     \\nTarget: ₹ 1,120  (12%)  \\nTarget Period: 12 months  \\nTata Motors (TATMOT) \\n \\nHOLD \\n  \\nFiring on all cylinders, record margins across divisions \\nAbout the stock: Tata Motors (TML) is an auto OEM from the house of Tata’s, \\noperating in domestic (PV, CV) and global markets (Jaguar Land Rover i.e., JLR)  \\n• \\nFY24 consolidated sales mix– JLR ~69%, India CV & PV combined ~30%. \\n•'}, vector=None, shard_key=None, order_value=None),\n",
       " ScoredPoint(id=7, version=0, score=0.85880244, payload={'content': 'leadership position in E-PV space with target to sell ~1 lakh E-PVs in FY25E \\nand is also a prominent player winning orders in CESL E-bus tenders  \\nRating and Target Price \\n• \\nTata Motors is reporting record performance across all its segments, \\nhowever due to lack of near-term triggers we retain our HOLD rating on \\nthe stock. We value Tata Motors at ₹ 1,120 on SOTP basis (12x, 2.2x FY26E \\nEV/EBITDA to India, JLR; ₹225 value to Indian E-PV & stake in Tata Tech.) \\n  \\n Key Financials (₹ crore)'}, vector=None, shard_key=None, order_value=None),\n",
       " ScoredPoint(id=32, version=0, score=0.8238647, payload={'content': '2.2\\n1,34,089\\nIndia EV business (PV)\\n~11% stake sale @₹7,500 cr\\nNA\\nNA\\n60,682\\nTata Technologies Stake Valuation\\n53.4% stake @ ₹ 41,000 crore\\nNA\\nNA\\n21,894\\nOther Investments\\n2x P/B on FY26E\\n5,868\\n2.0\\n11,736\\nTotal Enterprise Value (EV)\\n        4,11,725 \\nNet Debt\\nFY26E\\n-2,205\\nResultant Equity Value (target market cap)\\n4,13,930\\nTarget Price per share (₹/share)\\n1,120\\n \\nSource: ICICI Direct Research \\n  \\n \\n \\n \\n \\nICICI Securities | Retail Research \\n \\n4 \\nICICI Direct Research'}, vector=None, shard_key=None, order_value=None),\n",
       " ScoredPoint(id=13, version=0, score=0.81969833, payload={'content': '18.4\\n      \\n \\n   \\n1    \\n1    \\n \\n    \\n1    \\n1    \\n2    \\n2    \\n ay 21\\n o  21\\n ay 22\\n o  22\\n ay 2 \\n o  2 \\n ay 24\\n i ty (   )\\nT   (   )\\n \\n \\nSource: Company, ICICI Direct Research \\n \\nKey Financial Summary \\n \\n \\n \\nICICI Securities | Retail Research \\n \\n2 \\nICICI Direct Research \\n \\nResult Update | Tata Motors \\nQ4FY24 Earnings Conference Call Highlights \\nJaguar Land Rover \\n• \\nOrder Book: The order book at the end of FY24 was around 133,000'}, vector=None, shard_key=None, order_value=None),\n",
       " ScoredPoint(id=1, version=0, score=0.81727415, payload={'content': '• \\nFY24 consolidated sales mix– JLR ~69%, India CV & PV combined ~30%. \\n• \\nTML India: CV market share: 38%; PV market share ~14% as of FY24 \\nQ4FY24 Results: Tata Motors reported robust Q4FY24 results. Consolidated \\ntopline stood at ₹1.2 lakh crore (up 13%YoY) with EBITDA at ~₹20,247 crore and \\nEBITDA margins at 16.9%, up 50 bps QoQ. JLR reported EBITDA & EBIT margins of \\n16.3% (up 10 bps QoQ) & 9.2% (up 50 bps QoQ) respectively. Indian CV business'}, vector=None, shard_key=None, order_value=None),\n",
       " ScoredPoint(id=23, version=0, score=0.8112275, payload={'content': 'margins to 10% in FY26, driven by new \\nlaunches. \\n \\nSanand Plant and PLI: Sanand Plant \\nwas commissioned in January’24 and \\ncurrently ramped up to 6500 units per \\nmonth. It expects to ramp up to 10,000 \\nunits per month and further increase to \\n15,000 to 16,000 units per month. TML \\nreceived the PLI certificate for Tiago EV, \\nwith the SOP of disbursement being \\nfinalized and expected to be completed \\nby H2FY25. TML will also apply for PLI \\nfor additional new products in H1 FY25.'}, vector=None, shard_key=None, order_value=None),\n",
       " ScoredPoint(id=25, version=0, score=0.81082714, payload={'content': 'decline to a certain level. \\n \\n \\n \\n \\nICICI Securities | Retail Research \\n \\n3 \\nICICI Direct Research \\n \\nResult Update | Tata Motors \\nKey Tables and Charts \\nExhibit 1: Quarterly Analysis \\nQ4FY24\\nQ4FY23\\nYoY (%)\\nQ3FY24 QoQ (%)\\nComments\\nTotal Operating Income\\n1,19,986\\n1,05,932\\n13.3\\n1,10,577\\n8.5\\nCompany\\nreported\\nhealthy\\ntopline\\ngrowth of 13% YoY at ₹ 1.2 lakh crore\\nRaw Material Expenses\\n73,785\\n68,194\\n8.2\\n68,278\\n8.1\\nSavings were realised on the RM front\\nwith gross margins up 30 bps QoQ'}, vector=None, shard_key=None, order_value=None),\n",
       " ScoredPoint(id=31, version=0, score=0.8099203, payload={'content': '9,69,340\\n          \\n9,77,419\\n          \\n10,32,089\\n        \\n \\nSource: ICICI Direct Research; JLR volumes till FY23 included CJLR numbers, FY24 onwards it is excluding CJLR \\n \\nExhibit 3: SOTP valuation \\nParticulars\\nParameters\\nFY26E EBITDA \\n(₹ crore)\\nEV/EBITDA \\nMultiple (x)\\nResultant EV \\n(₹ crore)\\nTata Motors India business (CV, PV, Ex-Electric-PV)\\nFY26E EV/EBITDA\\n15,277\\n12.0\\n1,83,325\\nJLR\\nFY26E EV/EBITDA\\n60,949\\n2.2\\n1,34,089\\nIndia EV business (PV)\\n~11% stake sale @₹7,500 cr\\nNA\\nNA\\n60,682'}, vector=None, shard_key=None, order_value=None),\n",
       " ScoredPoint(id=33, version=0, score=0.8096359, payload={'content': 'ICICI Securities | Retail Research \\n \\n4 \\nICICI Direct Research \\n \\nResult Update | Tata Motors \\nFinancial Summary (Consolidated) \\nExhibit 4: Profit and loss statement                                    ₹ crore \\n(Year-end March)\\nFY23\\nFY24P\\nFY25E\\nFY26E\\nTotal operating Income\\n3,45,967\\n \\n4,37,928\\n \\n4,66,380\\n \\n5,05,050\\n \\nGrowth (%)\\n24.2\\n26.6\\n6.5\\n8.3\\nRaw Material Expenses\\n2,26,470\\n2,72,756\\n2,92,562\\n3,14,334\\nEmployee Expenses\\n33,655\\n42,487\\n44,637\\n48,299\\nMarketing Expenses\\n61,786\\n78,875'}, vector=None, shard_key=None, order_value=None),\n",
       " ScoredPoint(id=24, version=0, score=0.80601645, payload={'content': 'for additional new products in H1 FY25. \\nOthers:  TML witnessed an increase in \\nfirst time buyers particularly from \\nprofessionals for its EV offerings.  \\n \\nCommodity Cost Inflation: TML has \\nwitnessed an increase in commodity \\ncosts in casting, forgings, tyres, and \\naluminium, which will impact the \\nmargins. It will take an appropriate \\nprice hike at the right time. However, \\nbattery prices are still expected to \\ndecline to a certain level. \\n \\n \\n \\n \\nICICI Securities | Retail Research \\n \\n3'}, vector=None, shard_key=None, order_value=None)]"
      ]
     },
     "execution_count": 64,
     "metadata": {},
     "output_type": "execute_result"
    }
   ],
   "source": [
    "q_client.search(collection_name='financial_reports', query_vector=embeddings_model.embed_documents([\"target price tata motors\"])[0], limit=10)"
   ]
  },
  {
   "cell_type": "markdown",
   "metadata": {},
   "source": []
  }
 ],
 "metadata": {
  "kernelspec": {
   "display_name": ".venv",
   "language": "python",
   "name": "python3"
  },
  "language_info": {
   "codemirror_mode": {
    "name": "ipython",
    "version": 3
   },
   "file_extension": ".py",
   "mimetype": "text/x-python",
   "name": "python",
   "nbconvert_exporter": "python",
   "pygments_lexer": "ipython3",
   "version": "3.10.12"
  }
 },
 "nbformat": 4,
 "nbformat_minor": 2
}
