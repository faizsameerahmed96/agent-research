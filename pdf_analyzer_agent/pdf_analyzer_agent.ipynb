{
 "cells": [
  {
   "cell_type": "code",
   "execution_count": 133,
   "metadata": {},
   "outputs": [],
   "source": [
    "# !pip install PyMuPDF"
   ]
  },
  {
   "cell_type": "code",
   "execution_count": 134,
   "metadata": {},
   "outputs": [],
   "source": [
    "import pymupdf\n",
    "import datetime\n",
    "\n",
    "from langchain_core.tools import Tool\n",
    "\n",
    "from langchain.agents.format_scratchpad.openai_tools import (\n",
    "    format_to_openai_tool_messages,\n",
    ")\n",
    "from langchain.agents.output_parsers.openai_tools import OpenAIToolsAgentOutputParser\n",
    "from langchain.agents import AgentExecutor\n",
    "from langchain_openai import ChatOpenAI\n",
    "\n",
    "from langchain_core.prompts import ChatPromptTemplate, MessagesPlaceholder"
   ]
  },
  {
   "cell_type": "code",
   "execution_count": 135,
   "metadata": {},
   "outputs": [],
   "source": [
    "from langfuse.callback import CallbackHandler\n",
    "langfuse_handler = CallbackHandler(\n",
    "    # localhost so does not matter\n",
    "    secret_key=\"sk-lf-c650de69-a630-4c5a-b5bc-93a9745f663d\",\n",
    "    public_key=\"pk-lf-344d1105-8258-461a-bbc8-5cb5330389a9\",\n",
    "    host=\"http://localhost:3000\",\n",
    ")"
   ]
  },
  {
   "cell_type": "code",
   "execution_count": 136,
   "metadata": {},
   "outputs": [],
   "source": [
    "doc = None"
   ]
  },
  {
   "cell_type": "code",
   "execution_count": 137,
   "metadata": {},
   "outputs": [],
   "source": [
    "llm = ChatOpenAI(\n",
    "    model=\"gpt-4o\",\n",
    "    max_retries=2,\n",
    "    temperature=0.75,\n",
    ")"
   ]
  },
  {
   "cell_type": "code",
   "execution_count": 138,
   "metadata": {},
   "outputs": [],
   "source": [
    "def open_pdf(pdf_name):\n",
    "    global doc\n",
    "    doc = pymupdf.open(pdf_name)\n",
    "    return f\"Opened {pdf_name} pdf file for analysis. The document has {len(doc)} pages.\"\n",
    "\n",
    "open_pdf_tool = Tool.from_function(\n",
    "    name='open_pdf_tool',\n",
    "    func=open_pdf,\n",
    "    description=\"Opens a PDF file for analysis. Takes in the pdf file name. We need to open a pdf before we can ask information about it.\",\n",
    ")"
   ]
  },
  {
   "cell_type": "code",
   "execution_count": 139,
   "metadata": {},
   "outputs": [],
   "source": [
    "get_page_details_tool = Tool.from_function(\n",
    "    name='get_page_details_tool',\n",
    "    func=lambda page_number: doc[int(page_number)].get_text(),\n",
    "    description=\"Gets the text from a page in the pdf. Takes in the page number and returns the text in the page. We need to open the pdf using open_pdf_tool before we can ask information about it.\",\n",
    ")"
   ]
  },
  {
   "cell_type": "code",
   "execution_count": 140,
   "metadata": {},
   "outputs": [],
   "source": [
    "tools = [open_pdf_tool, get_page_details_tool]"
   ]
  },
  {
   "cell_type": "code",
   "execution_count": 141,
   "metadata": {},
   "outputs": [],
   "source": [
    "pdf_analyzer_prompt = ChatPromptTemplate.from_messages([\n",
    "    (\n",
    "        \"system\",\n",
    "        \"Tell me all the tools that you have access to\"\n",
    "        # \"\"\"\n",
    "        # You are a research agent. You will be given a pdf file. This file can only be read by the tools provided to you. The pdf file has multiple pages \n",
    "        # with information in it. You need to read the file and create a brief summary of the information in the file.\n",
    "\n",
    "        # Do not ask for the pdf file. You can access the pdf using tools provided to you.\n",
    "\n",
    "        # Return a result in the markdown format.\n",
    "\n",
    "        #  Return a research report in the markdown format.\n",
    "        # \"\"\"\n",
    "    ),\n",
    "    (\"human\", \"Pdf file: {pdf_file}\"),\n",
    "    MessagesPlaceholder(variable_name=\"agent_scratchpad\"),\n",
    "])"
   ]
  },
  {
   "cell_type": "code",
   "execution_count": 142,
   "metadata": {},
   "outputs": [],
   "source": [
    "def agent_scratchpad_formatter(x):\n",
    "    return format_to_openai_tool_messages(x[\"intermediate_steps\"])\n",
    "\n",
    "llm.bind_tools(tools)\n",
    "\n",
    "agent = (\n",
    "    {\n",
    "        \"pdf_file\": lambda x: x[\"pdf_file\"],\n",
    "        \"agent_scratchpad\": agent_scratchpad_formatter,\n",
    "    }\n",
    "    | pdf_analyzer_prompt\n",
    "    | llm\n",
    "    | OpenAIToolsAgentOutputParser()\n",
    ")"
   ]
  },
  {
   "cell_type": "code",
   "execution_count": 143,
   "metadata": {},
   "outputs": [],
   "source": [
    "agent_executor = AgentExecutor(agent=agent, tools=tools, verbose=True,)"
   ]
  },
  {
   "cell_type": "code",
   "execution_count": 144,
   "metadata": {},
   "outputs": [
    {
     "name": "stdout",
     "output_type": "stream",
     "text": [
      "\n",
      "\n",
      "\u001b[1m> Entering new AgentExecutor chain...\u001b[0m\n",
      "\u001b[32;1m\u001b[1;3mI currently don't have the ability to browse files or access PDFs. However, if you can provide text or specific details from the \"tata_motors_report.pdf,\" I can help you analyze the information or answer questions related to it.\u001b[0m\n",
      "\n",
      "\u001b[1m> Finished chain.\u001b[0m\n"
     ]
    }
   ],
   "source": [
    "pdf_file = \"tata_motors_report.pdf\"\n",
    "research_agent_result = await agent_executor.ainvoke({\"pdf_file\": pdf_file}, config={\"callbacks\": [langfuse_handler]})\n",
    "\n",
    "\n",
    "with open(f\"\"\"output/{datetime.datetime.now().strftime(\"%Y-%m-%d %H:%M:%S\")}_research_report.md\"\"\", 'w') as file:\n",
    "    file.write(research_agent_result['output'])"
   ]
  },
  {
   "cell_type": "code",
   "execution_count": null,
   "metadata": {},
   "outputs": [],
   "source": []
  }
 ],
 "metadata": {
  "kernelspec": {
   "display_name": ".venv",
   "language": "python",
   "name": "python3"
  },
  "language_info": {
   "codemirror_mode": {
    "name": "ipython",
    "version": 3
   },
   "file_extension": ".py",
   "mimetype": "text/x-python",
   "name": "python",
   "nbconvert_exporter": "python",
   "pygments_lexer": "ipython3",
   "version": "3.10.12"
  }
 },
 "nbformat": 4,
 "nbformat_minor": 2
}
